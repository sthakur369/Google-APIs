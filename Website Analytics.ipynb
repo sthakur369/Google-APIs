{
 "cells": [
  {
   "cell_type": "code",
   "execution_count": 30,
   "id": "b3fddf56",
   "metadata": {},
   "outputs": [],
   "source": [
    "\n",
    "from apiclient.discovery import build\n",
    "from oauth2client.service_account import ServiceAccountCredentials\n",
    "\n",
    "from apiclient.discovery import build\n",
    "from oauth2client.service_account import ServiceAccountCredentials\n",
    "import pandas as pd"
   ]
  },
  {
   "cell_type": "code",
   "execution_count": 31,
   "id": "a3509053",
   "metadata": {},
   "outputs": [],
   "source": [
    "SCOPES = ['https://www.googleapis.com/auth/analytics.readonly']\n",
    "KEY_FILE_LOCATION = './client_secrets.json'\n",
    "\n",
    "VIEW_ID = '222559645'"
   ]
  },
  {
   "cell_type": "code",
   "execution_count": 32,
   "id": "b53be26d",
   "metadata": {},
   "outputs": [],
   "source": [
    "def initialize_analyticsreporting():\n",
    "    credentials = ServiceAccountCredentials.from_json_keyfile_name(\n",
    "      KEY_FILE_LOCATION, SCOPES)\n",
    "    analytics = build('analyticsreporting', 'v4', credentials=credentials)\n",
    "    return analytics\n"
   ]
  },
  {
   "cell_type": "code",
   "execution_count": 33,
   "id": "5b04ee86",
   "metadata": {},
   "outputs": [],
   "source": [
    "def get_report(analytics, pageTokenVar):\n",
    "    return analytics.reports().batchGet(\n",
    "      body={\n",
    "        'reportRequests': [\n",
    "        {\n",
    "          'viewId': VIEW_ID,\n",
    "          'dateRanges': [{'startDate': '3daysAgo', 'endDate': 'yesterday'}],\n",
    "          'metrics': [{'expression': 'ga:pageviews'}],\n",
    "          'dimensions': [{'name': 'ga:pagePath'}],\n",
    "          'pageSize': 10000,\n",
    "          'pageToken': pageTokenVar,\n",
    "          'samplingLevel': 'LARGE'\n",
    "        }]\n",
    "      }\n",
    "  ).execute()"
   ]
  },
  {
   "cell_type": "code",
   "execution_count": 34,
   "id": "2dc00ca4",
   "metadata": {},
   "outputs": [],
   "source": [
    "def handle_report(analytics,pagetoken,rows):  \n",
    "    response = get_report(analytics, pagetoken)\n",
    "\n",
    "    #Header, Dimentions Headers, Metric Headers \n",
    "    columnHeader = response.get(\"reports\")[0].get('columnHeader', {})\n",
    "    dimensionHeaders = columnHeader.get('dimensions', [])\n",
    "    metricHeaders = columnHeader.get('metricHeader', {}).get('metricHeaderEntries', [])\n",
    "\n",
    "    #Pagination\n",
    "    pagetoken = response.get(\"reports\")[0].get('nextPageToken', None)\n",
    "    \n",
    "    #Rows\n",
    "    rowsNew = response.get(\"reports\")[0].get('data', {}).get('rows', [])\n",
    "    rows = rows + rowsNew\n",
    "    print(\"len(rows): \" + str(len(rows)))\n",
    "\n",
    "    #Recursivly query next page\n",
    "    if pagetoken != None:\n",
    "        return handle_report(analytics,pagetoken,rows)\n",
    "    else:\n",
    "        #nicer results\n",
    "        nicerows=[]\n",
    "        for row in rows:\n",
    "            dic={}\n",
    "            dimensions = row.get('dimensions', [])\n",
    "            dateRangeValues = row.get('metrics', [])\n",
    "\n",
    "            for header, dimension in zip(dimensionHeaders, dimensions):\n",
    "                dic[header] = dimension\n",
    "\n",
    "            for i, values in enumerate(dateRangeValues):\n",
    "                for metric, value in zip(metricHeaders, values.get('values')):\n",
    "                    if ',' in value or ',' in value:\n",
    "                        dic[metric.get('name')] = float(value)\n",
    "                    else:\n",
    "                        dic[metric.get('name')] = int(value)\n",
    "            nicerows.append(dic)\n",
    "        return nicerows"
   ]
  },
  {
   "cell_type": "code",
   "execution_count": 35,
   "id": "2c17dd65",
   "metadata": {},
   "outputs": [],
   "source": [
    "#Start\n",
    "def main():    \n",
    "    analytics = initialize_analyticsreporting()\n",
    "    \n",
    "    global dfanalytics\n",
    "    dfanalytics = []\n",
    "\n",
    "    rows = []\n",
    "    rows = handle_report(analytics,'0',rows)\n",
    "\n",
    "    dfanalytics = pd.DataFrame(list(rows))"
   ]
  },
  {
   "cell_type": "code",
   "execution_count": 36,
   "id": "9cd0b367",
   "metadata": {},
   "outputs": [
    {
     "name": "stdout",
     "output_type": "stream",
     "text": [
      "len(rows): 0\n"
     ]
    }
   ],
   "source": [
    "if __name__ == '__main__':\n",
    "    main()"
   ]
  },
  {
   "cell_type": "code",
   "execution_count": null,
   "id": "69c9fd28",
   "metadata": {},
   "outputs": [],
   "source": [
    "dfanalytics"
   ]
  }
 ],
 "metadata": {
  "kernelspec": {
   "display_name": "Python 3 (ipykernel)",
   "language": "python",
   "name": "python3"
  },
  "language_info": {
   "codemirror_mode": {
    "name": "ipython",
    "version": 3
   },
   "file_extension": ".py",
   "mimetype": "text/x-python",
   "name": "python",
   "nbconvert_exporter": "python",
   "pygments_lexer": "ipython3",
   "version": "3.8.13"
  }
 },
 "nbformat": 4,
 "nbformat_minor": 5
}
